{
  "cells": [
    {
      "cell_type": "markdown",
      "metadata": {
        "id": "view-in-github",
        "colab_type": "text"
      },
      "source": [
        "<a href=\"https://colab.research.google.com/github/RennanRbs/Acess/blob/master/Problema_Dos_Canibais_.ipynb\" target=\"_parent\"><img src=\"https://colab.research.google.com/assets/colab-badge.svg\" alt=\"Open In Colab\"/></a>"
      ]
    },
    {
      "cell_type": "markdown",
      "source": [
        "*Problema* Dos Canibais: \n",
        "# Três canibais e três missionários estão viajando juntos e chegam à margem de um rio. Eles desejam atravessar para a outra margem para, desta forma, continuar a viagem. O único meio de transporte disponível é um barco que comporta no máximo duas pessoas. Há uma outra dificuldade: em nenhum momento o número de canibais pode ser superior ao número de missionários pois desta forma os missionários estariam em grande perigo de vida. Como administrar a travessia?"
      ],
      "metadata": {
        "id": "n-4bsMR2O30o"
      }
    },
    {
      "cell_type": "markdown",
      "source": [
        "**Como o barco comporta no máximo 2 pessoas, há 5 possíveis situações quanto aos passageiros do barco em cada travessia:**\n",
        "\n",
        "1 canibal;\n",
        "2 canibais;\n",
        "1 missionário;\n",
        "2 missionários;\n",
        "1 canibal e 1 missionário."
      ],
      "metadata": {
        "id": "2DnppMmvP_hW"
      }
    },
    {
      "cell_type": "markdown",
      "source": [
        "## Solução em PORTUGOL"
      ],
      "metadata": {
        "id": "RYGtICDWUJOS"
      }
    },
    {
      "cell_type": "markdown",
      "source": [
        "\n",
        "\\\\ Define o número de missionários e canibais\n",
        "``` inteiro missionarios <- 3\n",
        "inteiro canibais <- 3\n",
        "```\n",
        "\n",
        "// Define a margem inicial do rio\n",
        "```\n",
        "inteiro margem_inicial <- 1  // 1 representa a margem esquerda do rio, e 2 representa a margem direita\n",
        "````\n",
        "\n",
        "// Define o número de missionários e canibais na margem inicial do rio\n",
        "```\n",
        "inteiro missionarios_na_margem_inicial <- missionarios\n",
        "inteiro canibais_na_margem_inicial <- canibais\n",
        "```\n",
        "// Define o número de missionários e canibais na margem final do rio\n",
        "```\n",
        "inteiro missionarios_na_margem_final <- 0\n",
        "inteiro canibais_na_margem_final <- 0\n",
        "```\n",
        "// Define o estado inicial do barco (vazio)\n",
        "```\n",
        "inteiro missionarios_no_barco <- 0\n",
        "inteiro canibais_no_barco <- 0\n",
        "```\n",
        "```\n",
        "Enquanto houver missionários na margem inicial do rio\n",
        "enquanto missionarios_na_margem_inicial > 0 faça:\n",
        "\n",
        "    // Verifica se a margem inicial é a margem esquerda do rio\n",
        "    se margem_inicial == 1 então:\n",
        "\n",
        "        // Move dois missionários para a margem direita\n",
        "        missionarios_na_margem_inicial <- missionarios_na_margem_inicial - 2\n",
        "        missionarios_na_margem_final <- missionarios_na_margem_final + 2\n",
        "        margem_inicial <- 2\n",
        "\n",
        "    senão se margem_inicial == 2 então:\n",
        "```\n",
        "        // Move um missionário e um canibal para a margem esquerda\n",
        "        ```\n",
        "        missionarios_na_margem_inicial <- missionarios_na_margem_inicial - 1\n",
        "        canibais_na_margem_inicial <- canibais_na_margem_inicial - 1\n",
        "        missionarios_na_margem_final <- missionarios_na_margem_final + 1\n",
        "        canibais_na_margem_final <- canibais_na_margem_final + 1\n",
        "        margem_inicial <- 1\n",
        "\n",
        "    fim se\n",
        "```\n",
        "\n",
        "    // Imprime o estado atual dos missionários e canibais em cada margem do rio\n",
        "    escreva(\"Margem esquerda: \", missionarios_na_margem_inicial, \" missionários e \", canibais_na_margem_inicial, \" canibais\")\n",
        "    escreva(\"Margem direita: \", missionarios_na_margem_final, \" missionários e \", canibais_na_margem_final, \" canibais\")\n",
        "    escreva(\"\")\n",
        "\n",
        "fim enquanto\n",
        "```\n",
        "```\n",
        "escreva(\"Parabéns! Todos os missionários e canibais chegaram à outra margem do rio com segurança.\")\n",
        "\n",
        "```"
      ],
      "metadata": {
        "id": "HQEC0URYTETu"
      }
    },
    {
      "cell_type": "markdown",
      "source": [
        "# SOLUÇAO PHYTON"
      ],
      "metadata": {
        "id": "umP48Zz0UQ06"
      }
    },
    {
      "cell_type": "code",
      "source": [
        "# Define o número de missionários e canibais\n",
        "missionarios = 3\n",
        "canibais = 3\n",
        "\n",
        "# Define a margem inicial do rio\n",
        "margem_inicial = 1  # 1 representa a margem esquerda do rio, e 2 representa a margem direita\n",
        "\n",
        "# Define o número de missionários e canibais na margem inicial do rio\n",
        "missionarios_na_margem_inicial = missionarios\n",
        "canibais_na_margem_inicial = canibais\n",
        "\n",
        "# Define o número de missionários e canibais na margem final do rio\n",
        "missionarios_na_margem_final = 0\n",
        "canibais_na_margem_final = 0\n",
        "\n",
        "# Define o estado inicial do barco (vazio)\n",
        "missionarios_no_barco = 0\n",
        "canibais_no_barco = 0\n",
        "\n",
        "# Enquanto houver missionários na margem inicial do rio\n",
        "while missionarios_na_margem_inicial > 0:\n",
        "\n",
        "    # Verifica se a margem inicial é a margem esquerda do rio\n",
        "    if margem_inicial == 1:\n",
        "\n",
        "        # Move dois missionários para a margem direita\n",
        "        missionarios_na_margem_inicial -= 2\n",
        "        missionarios_na_margem_final += 2\n",
        "        margem_inicial = 2\n",
        "\n",
        "    elif margem_inicial == 2:\n",
        "\n",
        "        # Move um missionário e um canibal para a margem esquerda\n",
        "        missionarios_na_margem_inicial -= 1\n",
        "        canibais_na_margem_inicial -= 1\n",
        "        missionarios_na_margem_final += 1\n",
        "        canibais_na_margem_final += 1\n",
        "        margem_inicial = 1\n",
        "\n",
        "    # Imprime o estado atual dos missionários e canibais em cada margem do rio\n",
        "    print(\"Margem esquerda: \", missionarios_na_margem_inicial, \" missionários e \", canibais_na_margem_inicial, \" canibais\")\n",
        "    print(\"Margem direita: \", missionarios_na_margem_final, \" missionários e \", canibais_na_margem_final, \" canibais\")\n",
        "    print()\n",
        "\n",
        "# Fim do jogo!\n",
        "print(\"Parabéns! Todos os missionários e canibais chegaram à outra margem do rio com segurança.\")\n"
      ],
      "metadata": {
        "colab": {
          "base_uri": "https://localhost:8080/"
        },
        "id": "f_DIOFrZTYKO",
        "outputId": "853d9d4d-7716-4e1f-919d-1cb57f3445f3"
      },
      "execution_count": null,
      "outputs": [
        {
          "output_type": "stream",
          "name": "stdout",
          "text": [
            "Margem esquerda:  1  missionários e  3  canibais\n",
            "Margem direita:  2  missionários e  0  canibais\n",
            "\n",
            "Margem esquerda:  0  missionários e  2  canibais\n",
            "Margem direita:  3  missionários e  1  canibais\n",
            "\n",
            "Parabéns! Todos os missionários e canibais chegaram à outra margem do rio com segurança.\n"
          ]
        }
      ]
    }
  ],
  "metadata": {
    "colab": {
      "name": "Problema Dos Canibais:",
      "toc_visible": true,
      "provenance": [],
      "include_colab_link": true
    },
    "kernelspec": {
      "display_name": "Python 3",
      "name": "python3"
    }
  },
  "nbformat": 4,
  "nbformat_minor": 0
}